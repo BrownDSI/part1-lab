{
 "cells": [
  {
   "cell_type": "markdown",
   "metadata": {},
   "source": [
    "# Building a Search Engine: Preliminary Lab\n",
    "### Due Wed, Feb 7 9:00PM.\n",
    "\n",
    "## Overview\n",
    "This lab is intended to ease you into the first part of the Search Engine Project. You may find it useful to read the handout for the first part of the project to get a sense of what you will be building. The material covered in this lab is will give you practice in Object Oriented Programming, the Factory method design pattern, and merging linked list Inverted Index postings."
   ]
  },
  {
   "cell_type": "markdown",
   "metadata": {},
   "source": [
    "## Part 1: Factory method pattern\n",
    "\n",
    "### Brief review of Object Oriented Programming \n",
    "\n",
    "One of the most useful concepts when working in the Object Oriented Programming paradigm is Inheritance. Inheritance describes the ability for a Class (called a Subclass) to take on the attributes and methods that define a Superclass.\n",
    "\n",
    "Consider the Fruit Superclass below."
   ]
  },
  {
   "cell_type": "code",
   "execution_count": null,
   "metadata": {
    "collapsed": true
   },
   "outputs": [],
   "source": [
    "class Fruit:\n",
    "    def __init__(self, description):\n",
    "        self.description = description\n",
    "    def print_description(self):\n",
    "        print(\"I am a \" + self.description)"
   ]
  },
  {
   "cell_type": "markdown",
   "metadata": {},
   "source": [
    "It's a fairly bare class, but holds methods (print_description) and attributes (description) that all fruits would want to have. See, for example, the Apple, Banana, and Cherry subclasses, which all inherit the Fruit superclass."
   ]
  },
  {
   "cell_type": "code",
   "execution_count": null,
   "metadata": {
    "collapsed": true
   },
   "outputs": [],
   "source": [
    "class Apple(Fruit):\n",
    "    def __init__(self, description):\n",
    "        super().__init__(description)\n",
    "    def bruise(self):\n",
    "        pass #implementation details elided\n",
    "        \n",
    "class Banana(Fruit):\n",
    "    def __init__(self, description):\n",
    "        super().__init__(description)\n",
    "    def peel(self):\n",
    "        pass #implementation details elided\n",
    "        \n",
    "class Cherry(Fruit):\n",
    "    def __init__(self, description):\n",
    "        super().__init__(description)\n",
    "    def remove_pit(self):\n",
    "        pass #implementation details elided"
   ]
  },
  {
   "cell_type": "markdown",
   "metadata": {},
   "source": [
    "Note that each class is defined as a subclass in the following syntax:\n",
    "\n",
    "`class Subclass(Superclass)`\n",
    "\n",
    "In the constructor (\\__init\\__) of each Fruit subclass, the constructor of the superclass (super().\\__init\\__)is called, passing in the description that will be stored as as an attribute.\n",
    "\n",
    "Although the Apple, Banana, and Cherry are all fruit, they each have specialized behavior! \n",
    "\n",
    "*We strongly suggest using inheritance in a similar way when implementing your Queries."
   ]
  },
  {
   "cell_type": "markdown",
   "metadata": {},
   "source": [
    "### Factory method pattern\n",
    "\n",
    "Let's say we were given fruit descriptions and we wanted to construct either an Apple, Banana, or Cherry depending on the description. One useful design pattern would be the Factory method pattern, which prescribes the use of a Factory with a factory method to instantiate an appropriate subclass."
   ]
  },
  {
   "cell_type": "code",
   "execution_count": null,
   "metadata": {
    "collapsed": true
   },
   "outputs": [],
   "source": [
    "class FruitFactory:\n",
    "    @staticmethod\n",
    "    def create(fruit_description):\n",
    "        if \"green\" in fruit_description:\n",
    "            return Apple(fruit_description)\n",
    "        if \"yellow\" in fruit_description:\n",
    "            return Banana(fruit_description)\n",
    "        if \"red\" in fruit_description:\n",
    "            return Cherry(fruit_description)\n",
    "        return None"
   ]
  },
  {
   "cell_type": "markdown",
   "metadata": {},
   "source": [
    "Above is an implementation of a Fruit Factory. Because `create` is a static method, we can call it in the following way:"
   ]
  },
  {
   "cell_type": "code",
   "execution_count": null,
   "metadata": {
    "collapsed": true
   },
   "outputs": [],
   "source": [
    "apple = FruitFactory.create(\"green, round fruit\")\n",
    "apple.print_description()\n",
    "orange = FruitFactory.create(\"yellow fruit\")\n",
    "orange.print_description()\n",
    "cherry = FruitFactory.create(\"red fruit with a pit\")\n",
    "cherry.print_description()"
   ]
  },
  {
   "cell_type": "markdown",
   "metadata": {},
   "source": [
    "Although you could write the same logic without the use of a Factory, like many design patterns, [it exists because it makes for more modular code.](https://stackoverflow.com/a/2430719)"
   ]
  },
  {
   "cell_type": "markdown",
   "metadata": {},
   "source": [
    "### Task 1: Implement a Query class"
   ]
  },
  {
   "cell_type": "markdown",
   "metadata": {},
   "source": [
    "Using similar syntax as the Fruit classes, define the following classes.: \n",
    "\n",
    "* Query\n",
    "* OneWordQuery (which is a subclass of Query)\n",
    "* PhraseQuery (which is a subclass of Query)\n",
    "* BooleanQuery (which is a subclass of Query)\n",
    "\n",
    "What information (if any) should Query and its subclasses store as an attribute? What methods (if any) do Query and its subclasses need? For this excercise, don't worry about implementing Query logic - feel free to use the `pass` keyword to elide any implementation details as you see fit."
   ]
  },
  {
   "cell_type": "code",
   "execution_count": null,
   "metadata": {
    "collapsed": true
   },
   "outputs": [],
   "source": [
    "#YOUR QUERY CLASS BELOW\n",
    "\n",
    "#YOUR ONEWORDQUERY CLASS BELOW\n",
    "\n",
    "#YOUR PHRASEQUERY CLASS BELOW\n",
    "\n",
    "#YOUR BOOLEANQUERY CLASS BELOW"
   ]
  },
  {
   "cell_type": "markdown",
   "metadata": {},
   "source": [
    "### Task 2: Implement a QueryFactory\n",
    "\n",
    "Using similar syntax as the FruitFactory, implement a QueryFactory. Given a query string, return an instance of the appropriate Query subclass.\n",
    "\n",
    "After you implement the QueryFactory, demonstrate that it works for each query type.\n",
    "\n",
    "You will find it helpful to look at the handout for Part 1 to see the difference between each Query type. \n"
   ]
  },
  {
   "cell_type": "code",
   "execution_count": null,
   "metadata": {
    "collapsed": true
   },
   "outputs": [],
   "source": [
    "#YOUR QUERYFACTORY BELOW"
   ]
  },
  {
   "cell_type": "markdown",
   "metadata": {},
   "source": [
    "Although you ultimately have the choice in how to implement your queries for Project Part 1, the use of inheritance and the Factory design pattern can be quite useful!"
   ]
  },
  {
   "cell_type": "markdown",
   "metadata": {},
   "source": [
    "## Part 2: Inverted Index using Linked Lists"
   ]
  },
  {
   "cell_type": "markdown",
   "metadata": {},
   "source": [
    "In the lectures for this course, you probably noticed that we were using a Linked List as the underlying data structure for index postings. Page 15/33 of [Lecture 1](https://drive.google.com/file/d/0B5-8XFTyir_RT1MwaUZRUjBnYnByWFRieFN5amg2NEoyTkdj/view), suggests the use of either Linked Lists or variable sized arrays.\n",
    "\n",
    "For the Project Part 1, we suggest the use of variable sized arrays (Python lists). For this lab, however, we will practice using Linked Lists!\n"
   ]
  },
  {
   "cell_type": "markdown",
   "metadata": {},
   "source": [
    "### Brief review of Linked Lists\n",
    "\n",
    "Linked Lists are generally implemented as a collection of nodes. We usually keep track of the head (the first element in the list), which holds a pointer to the next element in the list. Nodes usually store data of some kind.\n",
    "\n",
    "Read the implementation below."
   ]
  },
  {
   "cell_type": "code",
   "execution_count": null,
   "metadata": {
    "collapsed": true
   },
   "outputs": [],
   "source": [
    "class LinkedListNode:\n",
    "    def __init__(self, data):\n",
    "        self.data = data\n",
    "        self.next = None\n",
    "\n",
    "        \n",
    "#One way to make a linked list A -> B -> C\n",
    "a = LinkedListNode('A') # NOTE: a is the head of this linked list\n",
    "b = LinkedListNode('B')\n",
    "a.next = b\n",
    "c = LinkedListNode('C')\n",
    "b.next = c"
   ]
  },
  {
   "cell_type": "markdown",
   "metadata": {},
   "source": [
    "\n",
    "In Project Part 1, you will build a positional index, that is, your postings must contain document ids and the positions of each term occurrence within the document. \n",
    "\n",
    "However, for the purposes of the lab, consider a postings lists that only contains document ids. See [Lecture 1](https://drive.google.com/file/d/0B5-8XFTyir_RT1MwaUZRUjBnYnByWFRieFN5amg2NEoyTkdj/view) Slide 15 for an example.\n",
    "\n",
    "Consider a trivial example: an Inverted Index represented as two Linked Lists."
   ]
  },
  {
   "cell_type": "code",
   "execution_count": null,
   "metadata": {
    "collapsed": true
   },
   "outputs": [],
   "source": [
    "#Input: a List of integers representing document ids\n",
    "#Output: the head of the Linked List\n",
    "def construct_postions(postings):\n",
    "    dummy = current = LinkedListNode(0)\n",
    "    for id in postings:\n",
    "        current.next = LinkedListNode(id)\n",
    "        current = current.next\n",
    "    return dummy.next #dummy.next is the head\n",
    "\n",
    "brutus = construct_postions([2, 4, 8, 16, 32, 64, 128])\n",
    "caesar = construct_postions([1, 2, 3, 5, 8, 13, 21, 34])"
   ]
  },
  {
   "cell_type": "markdown",
   "metadata": {},
   "source": [
    "### Task 3: Implement an AND boolean query given two postings\n",
    "\n",
    "Implement `intersect()`, which takes in two postings and returns a list of document IDs. You may find [Lecture 1](https://drive.google.com/file/d/0B5-8XFTyir_RT1MwaUZRUjBnYnByWFRieFN5amg2NEoyTkdj/view) particularly useful."
   ]
  },
  {
   "cell_type": "code",
   "execution_count": null,
   "metadata": {
    "collapsed": true
   },
   "outputs": [],
   "source": [
    "def intersect(p1, p2):\n",
    "    #TODO: Task 3\n",
    "    pass\n",
    "            \n",
    "#find the document IDs in which brutus and caesar both appear\n",
    "print(intersect(brutus, caesar))"
   ]
  },
  {
   "cell_type": "markdown",
   "metadata": {},
   "source": [
    "### Task 4: Implement skip pointers\n",
    "Skip pointers are not a requirement for Project Part 1, but they can speed up the merge operation above given a Linked List representation of postings.\n",
    "\n",
    "Implement `skip_intersect` so that it uses skip pointers. The support function, `construct_skip_postings`, uses the square root of the length of each posting as a heuristic for how many skips. \n",
    "\n",
    "Below is a new implementation of the LinkedListNode. Each Node now has a skip attribute that can be a Node further along the list or None."
   ]
  },
  {
   "cell_type": "code",
   "execution_count": null,
   "metadata": {
    "collapsed": true
   },
   "outputs": [],
   "source": [
    "import math\n",
    "\n",
    "def construct_skip_postings(postings):\n",
    "    num_skips = int(math.sqrt(len(postings))) \n",
    "    if num_skips < 2:\n",
    "        return construct_postions(postings)\n",
    "    skips = [int(i/num_skips * len(postings)) for i in range(num_skips)] # list of skip indices\n",
    "    skips.append(len(postings) -1) #more elegant way to do this\n",
    "    dummy = current = LinkedListNode(0)\n",
    "    skip_to_idx = 0 #skip from idx to skip from \n",
    "    skip_from_node = None\n",
    "    for idx, doc_id in enumerate(postings):            \n",
    "        current.next = LinkedListNode(doc_id)\n",
    "        current = current.next\n",
    "        if skip_to_idx < len(skips) and skips[skip_to_idx] == idx:\n",
    "            skip_to_idx += 1\n",
    "            if skip_from_node is not None:\n",
    "                skip_from_node.skip = current\n",
    "                skip_from_node = current\n",
    "            else:\n",
    "                skip_from_node = current\n",
    "    return dummy.next #dummy.next is the head"
   ]
  },
  {
   "cell_type": "code",
   "execution_count": null,
   "metadata": {
    "collapsed": true
   },
   "outputs": [],
   "source": [
    "class LinkedListNode:\n",
    "    def __init__(self, data):\n",
    "        self.data = data\n",
    "        self.next = None\n",
    "        self.skip = None\n",
    "    \n",
    "\n",
    "\n",
    "def skip_intersect(p1, p2):\n",
    "    #TODO: Task 4\n",
    "    pass\n",
    "\n",
    "brutus = construct_skip_postings([2, 4, 8, 16, 32, 64, 128])\n",
    "caesar = construct_skip_postings([1,2,3,5,8, 13, 21, 34])\n",
    "\n",
    "print(skip_intersect(brutus, caesar)) \n"
   ]
  },
  {
   "cell_type": "markdown",
   "metadata": {},
   "source": [
    "# Ending Notes\n",
    "* For convenience, this lab was written in Jupyter Notebook. Generally, it is not advisable to write programming projects in Python notebooks."
   ]
  }
 ],
 "metadata": {
  "kernelspec": {
   "display_name": "Python 3",
   "language": "python",
   "name": "python3"
  },
  "language_info": {
   "codemirror_mode": {
    "name": "ipython",
    "version": 3
   },
   "file_extension": ".py",
   "mimetype": "text/x-python",
   "name": "python",
   "nbconvert_exporter": "python",
   "pygments_lexer": "ipython3",
   "version": "3.6.1"
  }
 },
 "nbformat": 4,
 "nbformat_minor": 2
}
